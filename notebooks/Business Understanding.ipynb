{
 "cells": [
  {
   "cell_type": "markdown",
   "metadata": {},
   "source": [
    "# Enterprise Data Science"
   ]
  },
  {
   "cell_type": "markdown",
   "metadata": {},
   "source": [
    "# Business Understanding"
   ]
  },
  {
   "cell_type": "code",
   "execution_count": 2,
   "metadata": {},
   "outputs": [
    {
     "name": "stdout",
     "output_type": "stream",
     "text": [
      " Volume in drive C is Windows\n",
      " Volume Serial Number is 26F8-80F8\n",
      "\n",
      " Directory of C:\\Users\\jitin\\ads_covid-19\\notebooks\n",
      "\n",
      "14/09/2020  17:00    <DIR>          .\n",
      "14/09/2020  17:00    <DIR>          ..\n",
      "12/08/2020  17:13                 0 .gitkeep\n",
      "13/09/2020  21:27    <DIR>          .ipynb_checkpoints\n",
      "14/09/2020  14:48             2.956 Business Understanding.ipynb\n",
      "12/08/2020  14:56           682.158 CRISP_DM.png\n",
      "14/09/2020  14:48           405.550 Data_Preparation.ipynb\n",
      "14/09/2020  14:52           139.762 Data_Preparation-Groupby_apply.ipynb\n",
      "14/09/2020  14:49           333.882 Data_Understanding.ipynb\n",
      "14/09/2020  14:52         3.985.375 Data_understanding_Plot.ipynb\n",
      "14/09/2020  17:00            17.654 Evaluation_walk_through.ipynb\n",
      "14/09/2020  14:46            24.815 Evaluation_walk_through-SIR.ipynb\n",
      "14/09/2020  15:36           481.660 fb_prophet.ipynb\n",
      "14/09/2020  14:53         4.334.982 Modelling_Phase_1.ipynb\n",
      "14/09/2020  14:55           194.394 Overfitting.ipynb\n",
      "14/09/2020  12:43         5.901.421 SIR_Model.ipynb\n",
      "20/08/2020  14:21               555 Untitled.ipynb\n",
      "13/09/2020  20:59           276.183 World_Population_Data_Preparation.ipynb\n",
      "              15 File(s)     16.781.347 bytes\n",
      "               3 Dir(s)  41.482.514.432 bytes free\n"
     ]
    }
   ],
   "source": [
    "%ls"
   ]
  },
  {
   "cell_type": "markdown",
   "metadata": {},
   "source": [
    "![Crisp_DM](CRISP_DM.png)"
   ]
  },
  {
   "cell_type": "markdown",
   "metadata": {},
   "source": [
    "we would like to track spread Corona Virus spread across countries and with local personal information\n",
    "\n",
    "The general information is not so relevant for me \n",
    "I would like to have a deep dive on the local development of the spread"
   ]
  },
  {
   "cell_type": "code",
   "execution_count": null,
   "metadata": {},
   "outputs": [],
   "source": []
  }
 ],
 "metadata": {
  "kernelspec": {
   "display_name": "Python 3",
   "language": "python",
   "name": "python3"
  },
  "language_info": {
   "codemirror_mode": {
    "name": "ipython",
    "version": 3
   },
   "file_extension": ".py",
   "mimetype": "text/x-python",
   "name": "python",
   "nbconvert_exporter": "python",
   "pygments_lexer": "ipython3",
   "version": "3.8.5"
  }
 },
 "nbformat": 4,
 "nbformat_minor": 4
}
